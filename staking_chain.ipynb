{
 "cells": [
  {
   "cell_type": "code",
   "execution_count": 1,
   "metadata": {},
   "outputs": [],
   "source": [
    "\n",
    "\n",
    "## CSCI E-118 Introduction to Blockchain and Bitcoin \n",
    "\n",
    "### Staking Chain Demo\n",
    "\n"
   ]
  },
  {
   "cell_type": "markdown",
   "metadata": {},
   "source": [
    "The stakes for poker games have grown so much in the last few decades that the biggest games can only be played responsibly by billionaires.  Poker is a very technical game and the best poker pros are orders of magnitude better than these players but must be careful to avoid gambler’s ruin.  Knowing what proportion of your bankroll to risk such that your risk of ruin is always zero is determined by the Kelly Criterion.  This involves aggressively moving up or down in stakes to maximize your expectation.  It also involves being able to estimate your winrate.  To allow more granular control over these aggressive bankroll moves, selling action to investors is a very helpful tool.  This application will allow players to focus less on networking and request to play tournaments from investors that have been given access to the DApp.  \n",
    "\n",
    "My project will be a DApp that will allow record keeping for a decentralized poker staking network.  Players in the database are able to request to play a tournament for say $10,000 and say how much of that they want to sell with an optional markup (fee) on top.  The markup is used by better players because if you have a very high ROI this is a very profitable investment in the long run.  I used Solidity (Remix) and Python (Jupyter Notebook) with Web3.py to build this DApp.  I will present the demo using explanatory text in a Jupyter Notebook that demonstrates a few sample runs on the program.  \n",
    "\n",
    "Right now the DApp only allows players to request to play tournaments (and not cash games).  This is useful because the results are published in multiple reputable locations on the internet.  A last mile issue is needing some sort of Oracle to update the results so that the correct results for tournaments are issued to the DApp.  For now the owner of the contract is the Oracle and this is clearly a central point of failure.  All of the numbers I used were uint256 which will take more gas for some numbers that don't need to be that big.  If this app ends up being widely used it will be very inefficient to not have appropriate sized ints for numbers that won’t get too big.  Another scaling issue is currently when the player is distributing funds if one of the blocks fail then the entire function will revert and nobody will get paid.  This means players couldn’t currently try and get Bernie Sanders/Donald Trump style crowdfunding because there could be issues if the application were trying to pay out profit to thousands of addresses.  \n",
    "The owner of the contract is the Oracle for results right now so one possible thing players could do is say that they played a tournament and collect the investments, but not actually play the tournament.  They would pocket the money and report the tournament as a loss.  In the future when there is an Oracle it would be able to verify that players played as well as verifying the profit results.  This would prevent errors from the owner leading to incorrect payouts.  I had to scale my project back a bit so there aren’t some very strong decentralization properties.  That being said the best decentralization property is the ability to find investors without having to go searching.  This would create two-sided marketplaces (for ex. Uber or Airbnb) where investors are able to find players who want to sell some action.  In some ways this project is a primitive cousin of the Automated Market Maker revolution that is happening in the Decentralized Finance space.  Also, all of the record keeping and transfer of funds would be done securely.  Sometimes shady investors won’t pay for a loss after the fact, or greedy players will not pay out winnings.  \n"
   ]
  },
  {
   "cell_type": "markdown",
   "metadata": {},
   "source": [
    "Tracking funds and results in a distributed Poker Staking Network\n",
    "\n",
    "The purpose of this application is to provide infrastructure for a distributed Poker Staking Network.  \n"
   ]
  },
  {
   "cell_type": "code",
   "execution_count": 2,
   "metadata": {},
   "outputs": [],
   "source": [
    "from solcx import set_solc_version, compile_files\n",
    "from web3 import Web3\n",
    "\n",
    "from eth_tester import EthereumTester, PyEVMBackend\n",
    "\n",
    "import os"
   ]
  },
  {
   "cell_type": "code",
   "execution_count": 3,
   "metadata": {},
   "outputs": [],
   "source": [
    "set_solc_version('v0.7.6')"
   ]
  },
  {
   "cell_type": "code",
   "execution_count": 4,
   "metadata": {},
   "outputs": [],
   "source": [
    "# EthereumTester used explicitly to get accounts\n",
    "TESTER = EthereumTester(backend=PyEVMBackend())"
   ]
  },
  {
   "cell_type": "markdown",
   "metadata": {},
   "source": [
    " `get_contract_path` gets the path to the contract we want by the contract's name.\n",
    "\n",
    " The `compile_contract` function takes a contract name and compiles the contract with that name. It returns the compiled code for the compiled contract. The compiled code includes the Application Binary Interface (`abi`), the bytecode (`bin`), etc."
   ]
  },
  {
   "cell_type": "code",
   "execution_count": 5,
   "metadata": {},
   "outputs": [],
   "source": [
    "def get_contract_path(contract_name):\n",
    "    '''\n",
    "    construct path to contract file\n",
    "    assumes there is a subdirectory in your current working directory named \"contracts\"\n",
    "    \n",
    "    contract_name: the name of the contract (without the .sol suffix)\n",
    "    '''\n",
    "    return os.path.join(os.getcwd(), 'contracts', f'{contract_name}.sol')\n",
    "\n",
    "def compile_contract(contract_name):\n",
    "    '''\n",
    "    compile contract and get the result of compilation\n",
    "    \n",
    "    contract_name: the name of the contract, which should match the filename (without the .sol suffix)\n",
    "    '''\n",
    "    source_file_name = get_contract_path(contract_name)\n",
    "    compiled_sol = compile_files([source_file_name]) # Compiled source code\n",
    "    return compiled_sol[source_file_name + \":\" + contract_name]"
   ]
  },
  {
   "cell_type": "markdown",
   "metadata": {},
   "source": [
    "`get_w3` returns an instance of a web3 object, which is what we use to interact with the blockchain.\n",
    "\n",
    "It first instantiates the web3 object with a `provider`. You can read all about it [here](https://web3py.readthedocs.io/en/stable/providers.html), but in general it's what gives us access to the blockchain. For now we'll use `EthereumTesterProvider` which integrates directly with the `eth-tester` library we're using.\n",
    "\n",
    "The `account` paramater will be set to the default account. This is the account that we'll be conducting transactions from, unless we specify otherwise."
   ]
  },
  {
   "cell_type": "code",
   "execution_count": 6,
   "metadata": {},
   "outputs": [],
   "source": [
    "def get_w3(provider, account=None):\n",
    "    '''\n",
    "    get a web3 object instance\n",
    "    sets the default account to the one provided or the first test account if not provided\n",
    "    \n",
    "    provider: backend test provider\n",
    "    account:  the account number to set as default, or None if you want to use the first test account\n",
    "    '''\n",
    "    # web3.py instance\n",
    "    w3 = Web3(provider)\n",
    "    \n",
    "    if account:\n",
    "        # set account as default sender of transactions\n",
    "        w3.eth.defaultAccount = account\n",
    "    else:\n",
    "        # set the first test account as default sender of transactions\n",
    "        w3.eth.defaultAccount = w3.eth.accounts[0]\n",
    "    \n",
    "    return w3"
   ]
  },
  {
   "cell_type": "markdown",
   "metadata": {},
   "source": [
    "`deploy_contract` deploys the contract to the blockchain.\n",
    "\n",
    "`deploy_contract` takes in the `w3` object from above, which is intialized with a `provider` and default account. This is the account that the deployment will be associated with.\n",
    "\n",
    "The second argument, `compiled_contract` is the compiled contract code, which includes the `abi` and `bin`.\n",
    "\n",
    "`deploy_contract` also takes in a variable amount of optional args, called `c_args`. If provided, these arguments are passed into the contract's constructor. If the smart contract was written with a constructor that takes in some parameters, this is how we provide them.\n",
    "\n",
    "Within the `deploy_contract` function, the contract interface is retrieved from the `abi` and `bin`. The interface provides the contract functions, including the contstructor to initialize it. The constructor is called, passing in any arguments and then `transact()` deploys the contract to the backend (`PyEVM`).\n",
    "\n",
    "This provides us with a transaction hash. We use this hash as an identifier. We wait for the transaction to complete (mined and put into a block), providing the transaction hash. Once it completes, we get a receipt, which among other things contains the contract's address. We get the deployed contract instance by providing that address, along with the contract's `abi` and `bin`.\n",
    "\n",
    "`deploy_contract` returns a tuple containg the transaction receipt--which contains information like the transaction's index, block number, gas used, contract address, etc.--and the deployed contract interface. The `deployed_contract_interface` is a `Web3` object, initialized with the compiled contract (`abi` and `bin`) as well as the address of the contract on the blockchain."
   ]
  },
  {
   "cell_type": "code",
   "execution_count": 7,
   "metadata": {},
   "outputs": [],
   "source": [
    "def deploy_contract(w3, compiled_contract, *c_args):\n",
    "    '''\n",
    "    deploy the contract\n",
    "    \n",
    "    w3: web3 object instance\n",
    "    compiled_contract: dictionary of compiled contract should have values for the keys: \"abi\" and \"bin\"\n",
    "    *c_args: a variable number of contract arguments to pass to the constructor of the contract\n",
    "    '''\n",
    "    # get the contract interface from the compiled contract\n",
    "    contract_interface = w3.eth.contract(abi=compiled_contract['abi'], bytecode=compiled_contract['bin'])\n",
    "    \n",
    "    # Instantiate the contract by passing in constructor args, and submit the transaction to deploy\n",
    "    tx_hash = contract_interface.constructor(*c_args).transact()\n",
    "    \n",
    "    # Wait for the transaction to be put into a block, and get the transaction receipt\n",
    "    tx_receipt = w3.eth.waitForTransactionReceipt(tx_hash)\n",
    "    \n",
    "    # Get the deployed contract instance from the blockchain with the newly-deployed contract's address\n",
    "    deployed_contract_interface = w3.eth.contract(\n",
    "        address=tx_receipt.contractAddress,\n",
    "        abi=compiled_contract['abi'],\n",
    "        bytecode=compiled_contract['bin']\n",
    "    )\n",
    "    \n",
    "    return tx_receipt, deployed_contract_interface"
   ]
  },
  {
   "cell_type": "markdown",
   "metadata": {},
   "source": [
    "Accounts provided by eth-tester:"
   ]
  },
  {
   "cell_type": "code",
   "execution_count": 8,
   "metadata": {},
   "outputs": [
    {
     "data": {
      "text/plain": "('0x7E5F4552091A69125d5DfCb7b8C2659029395Bdf',\n '0x2B5AD5c4795c026514f8317c7a215E218DcCD6cF',\n '0x6813Eb9362372EEF6200f3b1dbC3f819671cBA69',\n '0x1efF47bc3a10a45D4B230B5d10E37751FE6AA718',\n '0xe1AB8145F7E55DC933d51a18c793F901A3A0b276',\n '0xE57bFE9F44b819898F47BF37E5AF72a0783e1141',\n '0xd41c057fd1c78805AAC12B0A94a405c0461A6FBb',\n '0xF1F6619B38A98d6De0800F1DefC0a6399eB6d30C',\n '0xF7Edc8FA1eCc32967F827C9043FcAe6ba73afA5c',\n '0x4CCeBa2d7D2B4fdcE4304d3e09a1fea9fbEb1528')"
     },
     "execution_count": 8,
     "metadata": {},
     "output_type": "execute_result"
    }
   ],
   "source": [
    "TESTER.get_accounts()"
   ]
  },
  {
   "cell_type": "markdown",
   "metadata": {},
   "source": [
    "The staking_chain_account is the main account and this is the account that will allow backers and players into the network.  This is the default account. \n",
    "pp_bank accounts are player's addresses\n",
    "backer_accounts are investor's addresses"
   ]
  },
  {
   "cell_type": "code",
   "execution_count": 9,
   "metadata": {},
   "outputs": [],
   "source": [
    "staking_chain_account = TESTER.get_accounts()[0]\n",
    "pp_bank1 = TESTER.get_accounts()[1]\n",
    "pp_bank2 = TESTER.get_accounts()[2]\n",
    "backer_account1 = TESTER.get_accounts()[3]\n",
    "backer_account2 = TESTER.get_accounts()[4]\n",
    "backer_account3 = TESTER.get_accounts()[5]\n",
    "backer_account4 = TESTER.get_accounts()[6]"
   ]
  },
  {
   "cell_type": "markdown",
   "metadata": {},
   "source": [
    "This gets the contract's compiled code, including the `abi` and `bin` (the bytecode)."
   ]
  },
  {
   "cell_type": "code",
   "execution_count": 10,
   "metadata": {},
   "outputs": [],
   "source": [
    "sc_compiled = compile_contract(\"StakingChain\")"
   ]
  },
  {
   "cell_type": "markdown",
   "metadata": {},
   "source": [
    "Now we'll set up the provider. This is the connection to the blockchain.  We'll use `EthereumTesterProvider` which integrates directly with the `eth-tester` library we're using."
   ]
  },
  {
   "cell_type": "code",
   "execution_count": 11,
   "metadata": {},
   "outputs": [],
   "source": [
    "provider = Web3.EthereumTesterProvider(ethereum_tester=TESTER)"
   ]
  },
  {
   "cell_type": "markdown",
   "metadata": {},
   "source": [
    "With the provider, we'll get the web3 object, passing in the default account (the staking chain account which allows backers,players into system and will report results after tournaments have finished). The returned `Web3` object, connected to the `PyEVM` backend through `eth-tester`, is our way of interfacing with the blockchain."
   ]
  },
  {
   "cell_type": "code",
   "execution_count": 12,
   "metadata": {},
   "outputs": [],
   "source": [
    "sc_w3 = get_w3(provider, staking_chain_account)"
   ]
  },
  {
   "cell_type": "markdown",
   "metadata": {},
   "source": [
    "Finally, we'll deploy the staking chain contract by passing in the web3 object and the compiled code. We'll get back the receipt for the contract deoployment transaction, and the deployed contract's interface."
   ]
  },
  {
   "cell_type": "code",
   "execution_count": 13,
   "metadata": {},
   "outputs": [],
   "source": [
    "sc_receipt, sc_contract = deploy_contract(sc_w3, sc_compiled)"
   ]
  },
  {
   "cell_type": "code",
   "execution_count": 14,
   "metadata": {},
   "outputs": [
    {
     "data": {
      "text/plain": "[<Function _updateResults(uint256,uint256,uint256)>,\n <Function accept_results(uint256,uint256)>,\n <Function action_owned(uint256,address,uint256)>,\n <Function backerTransPlayer(uint256,uint256)>,\n <Function distribute_result(uint256,uint256)>,\n <Function get_amount_owed(uint256,uint256)>,\n <Function invest(uint256,uint256)>,\n <Function owner()>,\n <Function play_id()>,\n <Function player_database(uint256)>,\n <Function register_pp(address,uint256,uint256)>,\n <Function request_buyin(uint256,uint256,uint256,uint256,uint256)>,\n <Function total_results(uint256)>,\n <Function tourney_results(uint256,uint256)>,\n <Function updateMaxStake(uint256,uint256)>]"
     },
     "execution_count": 14,
     "metadata": {},
     "output_type": "execute_result"
    }
   ],
   "source": [
    "sc_contract.all_functions()"
   ]
  },
  {
   "cell_type": "markdown",
   "metadata": {},
   "source": [
    "`exec_call` will issue a call. This means the function is called locally, and no transaction is made on the blockchain. Therefore issuing a call does not lead to a change in the blockchain's state. Calls do not cost gas. It takes the contract interface, which is the `Web3` object initialized with the compiled contract and its address; the name of the function within the smart contract that we wish to call; and `f_args` which is a variable number of arguments we wish to pass to the smart contract function we're calling.\n",
    "\n",
    "`exec_transact_receipt` will issue a transaction. This means the function is broadcast to the blockchain, and the blockchain's state is changed. Transactions cost gas. It returns whatever value is returned by the smart contract, as well as the transaction receipt.\n",
    "\n",
    "`exec_transact` just issues the transaction and returns the smart contract's return value, without the receipt.\n",
    "\n",
    "All three functions take an optional transaction dictionary. This dictionary contains values for the various fields of the transactions. Most times we can rely on the default values, but sometimes we may want to specify a different value. You can read about the transaction dictionary in the docs [here](https://web3py.readthedocs.io/en/stable/contracts.html#web3.contract.ContractFunction.transact) and [here](https://web3py.readthedocs.io/en/stable/web3.eth.html#web3.eth.Eth.send_transaction)."
   ]
  },
  {
   "cell_type": "code",
   "execution_count": 15,
   "metadata": {},
   "outputs": [],
   "source": [
    "def exec_call(contract_interface, function_name, *f_args, transaction={}):\n",
    "    '''\n",
    "    execute a call, which does not execute a transaction (i.e. no write)\n",
    "    \n",
    "    contract_interface: web3 object initialized with compiled contract and its address\n",
    "    function_name: name of the function in the smart contract to be invoked\n",
    "    f_args: variable number of arguments to pass in to the function in the smart contract\n",
    "    transaction: dictionary containing transaction fields\n",
    "    '''\n",
    "    func_inst = contract_interface.get_function_by_name(function_name)\n",
    "\n",
    "    return_value = func_inst(*f_args).call(transaction)\n",
    "    return return_value\n",
    "\n",
    "def exec_transact_receipt(contract_interface, function_name, *f_args, transaction={}):\n",
    "    '''\n",
    "    execute a transaction (i.e. a write), and return the transaction receipt\n",
    "    \n",
    "    contract_interface: web3 object initialized with compiled contract and its address\n",
    "    function_name: name of the function in the smart contract to be invoked\n",
    "    f_args: variable number of arguments to pass in to the function in the smart contract\n",
    "    transaction: dictionary containing transaction fields\n",
    "    '''\n",
    "    func_inst = contract_interface.get_function_by_name(function_name)\n",
    "    \n",
    "    # get the return value first, without executing transaction\n",
    "    return_value = exec_call(contract_interface, function_name, *f_args, transaction=transaction)\n",
    "    \n",
    "    # execute the transaction\n",
    "    tx_hash = func_inst(*f_args).transact(transaction)\n",
    "    # receipt does not contain values returned by function\n",
    "    tx_receipt = contract_interface.web3.eth.waitForTransactionReceipt(tx_hash)\n",
    "    \n",
    "    return return_value, tx_receipt\n",
    "\n",
    "def exec_transact(contract_interface, function_name, *f_args, transaction={}):\n",
    "    '''\n",
    "    execute transaction, but ignore the transaction receipt\n",
    "    \n",
    "    contract_interface: web3 object initialized with compiled contract and its address\n",
    "    function_name: name of the function in the smart contract to be invoked\n",
    "    f_args: variable number of arguments to pass in to the function in the smart contract\n",
    "    transaction: dictionary containing transaction fields\n",
    "    '''\n",
    "    rv, _ = exec_transact_receipt(contract_interface, function_name, *f_args, transaction=transaction)\n",
    "    return rv"
   ]
  },
  {
   "cell_type": "markdown",
   "metadata": {},
   "source": [
    "Now we will register two poker players with max_stake set to 1000.  This is the maximum buy-in they can request to play."
   ]
  },
  {
   "cell_type": "code",
   "execution_count": 16,
   "metadata": {},
   "outputs": [
    {
     "name": "stdout",
     "output_type": "stream",
     "text": [
      "pp_id_1:  0\n",
      "pp_id_2:  1\n"
     ]
    }
   ],
   "source": [
    "pp_id_1, pp_id_1_receipt = exec_transact_receipt(sc_contract, \"register_pp\", pp_bank1, 0, 1000)\n",
    "pp_id_2, pp_id_2_receipt= exec_transact_receipt(sc_contract, \"register_pp\", pp_bank2, 0, 1000)\n",
    "\n",
    "print(\"pp_id_1: \", pp_id_1)\n",
    "print(\"pp_id_2: \", pp_id_2)"
   ]
  },
  {
   "cell_type": "code",
   "execution_count": 17,
   "metadata": {},
   "outputs": [
    {
     "data": {
      "text/plain": "AttributeDict({'transactionHash': HexBytes('0xaffc06fb1d17196c6bafc43e306daefceca82caaf2d9690a9912d5d552d4553c'),\n 'transactionIndex': 0,\n 'blockNumber': 2,\n 'blockHash': HexBytes('0x42fe24e43cb1d626bf77dedf1b4014c1e446f1dedebfe6ad5980129c6fa6d782'),\n 'cumulativeGasUsed': 115867,\n 'gasUsed': 115867,\n 'contractAddress': None,\n 'logs': [],\n 'status': 1})"
     },
     "execution_count": 17,
     "metadata": {},
     "output_type": "execute_result"
    }
   ],
   "source": [
    "pp_id_1_receipt"
   ]
  },
  {
   "cell_type": "markdown",
   "metadata": {},
   "source": [
    "Player 1 requests backing for Tourney ID: 202021 Buy-in: 20 \n"
   ]
  },
  {
   "cell_type": "code",
   "execution_count": 18,
   "metadata": {},
   "outputs": [],
   "source": [
    "_, buyin_receipt = exec_transact_receipt(sc_contract, \"request_buyin\", pp_id_1, 10, 20, 202021, 1000000, transaction={'from': pp_bank1})"
   ]
  },
  {
   "cell_type": "markdown",
   "metadata": {},
   "source": [
    "Player 2 requests backing for Tourney ID: 502021 Buy-in: 50"
   ]
  },
  {
   "cell_type": "code",
   "execution_count": 19,
   "metadata": {},
   "outputs": [],
   "source": [
    "_, buyin_receipt2 = exec_transact_receipt(sc_contract, \"request_buyin\", pp_id_2, 25, 50, 502021, 2000000, transaction={'from': pp_bank2})"
   ]
  },
  {
   "cell_type": "code",
   "execution_count": 20,
   "metadata": {},
   "outputs": [
    {
     "data": {
      "text/plain": "2"
     },
     "execution_count": 20,
     "metadata": {},
     "output_type": "execute_result"
    }
   ],
   "source": [
    "exec_call(sc_contract, \"play_id\")"
   ]
  },
  {
   "cell_type": "markdown",
   "metadata": {},
   "source": [
    "After the player emits an event requesting a buy-in, the contract will use an event listener so that a backer that wants to invest given these parameters can emit their own event and eventually send money.  "
   ]
  },
  {
   "cell_type": "code",
   "execution_count": 21,
   "metadata": {},
   "outputs": [],
   "source": [
    "#Event listener for request_buyin()"
   ]
  },
  {
   "cell_type": "code",
   "execution_count": 22,
   "metadata": {},
   "outputs": [],
   "source": [
    "from web3.logs import STRICT\n",
    "#sc_contract.events.RequestTourney().processReceipt(pp_id_1_receipt, errors=STRICT)"
   ]
  },
  {
   "cell_type": "code",
   "execution_count": 23,
   "metadata": {},
   "outputs": [],
   "source": [
    "def get_buyin_requested(pp_id_1_receipt):\n",
    "    return sc_contract.events.RequestTourney().processReceipt(pp_id_1_receipt)[0]['args']"
   ]
  },
  {
   "cell_type": "markdown",
   "metadata": {},
   "source": [
    "The details of the requested buy-in, player id, tourney_id and the markup this player is charging.  The markup is the \"fee\" good players will charge on top of the percentage of action * tournament buy-in.  It's possible a potential investor wants to invest in the player but if the player is too greedy, the backer will respond to the request.  "
   ]
  },
  {
   "cell_type": "code",
   "execution_count": 24,
   "metadata": {},
   "outputs": [
    {
     "data": {
      "text/plain": "AttributeDict({'amountReq': 10,\n 'play_id': 0,\n 'buy_in': 20,\n 'tourney_id': 202021,\n 'markup': 1000000})"
     },
     "execution_count": 24,
     "metadata": {},
     "output_type": "execute_result"
    }
   ],
   "source": [
    "buyin_event1 = get_buyin_requested(buyin_receipt)\n",
    "buyin_event1"
   ]
  },
  {
   "cell_type": "markdown",
   "metadata": {},
   "source": [
    "Check the current state of player pp_id_1 after the request event was submitted.  "
   ]
  },
  {
   "cell_type": "code",
   "execution_count": 25,
   "metadata": {},
   "outputs": [
    {
     "data": {
      "text/plain": "[0,\n 0,\n 1000,\n True,\n False,\n 202021,\n '0x2B5AD5c4795c026514f8317c7a215E218DcCD6cF',\n 10,\n 0,\n 1000000,\n 20]"
     },
     "execution_count": 25,
     "metadata": {},
     "output_type": "execute_result"
    }
   ],
   "source": [
    "exec_call(sc_contract, \"player_database\", pp_id_1)"
   ]
  },
  {
   "cell_type": "code",
   "execution_count": 26,
   "metadata": {},
   "outputs": [],
   "source": [
    "#Event listener for invest()"
   ]
  },
  {
   "cell_type": "markdown",
   "metadata": {},
   "source": [
    "There will be an event listener after the backer decides to invest in the player.  Backer_account1 transfers funds to pp_id_1"
   ]
  },
  {
   "cell_type": "code",
   "execution_count": 27,
   "metadata": {},
   "outputs": [],
   "source": [
    "_, invest_receipt = exec_transact_receipt(sc_contract, \"invest\", 10, pp_id_1, transaction={'from': backer_account1, 'value': 10})\n",
    "#exec_call(sc_contract, \"player_database\", pp_id_1)"
   ]
  },
  {
   "cell_type": "code",
   "execution_count": 28,
   "metadata": {},
   "outputs": [
    {
     "data": {
      "text/plain": "()"
     },
     "execution_count": 28,
     "metadata": {},
     "output_type": "execute_result"
    }
   ],
   "source": [
    "sc_contract.events.PlayerNeedsFunds().processReceipt(pp_id_1_receipt, errors=STRICT)"
   ]
  },
  {
   "cell_type": "markdown",
   "metadata": {},
   "source": [
    "A helper function to get the details of the investment. "
   ]
  },
  {
   "cell_type": "code",
   "execution_count": 29,
   "metadata": {},
   "outputs": [],
   "source": [
    "def get_invest_receipt(pp_id_1_receipt):\n",
    "    events = sc_contract.events.PlayerNeedsFunds().processReceipt(pp_id_1_receipt)\n",
    "    if len(events) > 0:\n",
    "        return events[0]['args']\n",
    "    else:\n",
    "        return None"
   ]
  },
  {
   "cell_type": "markdown",
   "metadata": {},
   "source": [
    "This will log the details of an investor event"
   ]
  },
  {
   "cell_type": "code",
   "execution_count": 30,
   "metadata": {},
   "outputs": [
    {
     "name": "stdout",
     "output_type": "stream",
     "text": [
      "AttributeDict({'amountReq': 10, 'play_id': 2})\n"
     ]
    }
   ],
   "source": [
    "invest_event1 = get_invest_receipt(invest_receipt)\n",
    "print(invest_event1)\n",
    "if(invest_event1):\n",
    "    pass"
   ]
  },
  {
   "cell_type": "code",
   "execution_count": 31,
   "metadata": {},
   "outputs": [
    {
     "data": {
      "text/plain": "[0,\n 10,\n 1000,\n True,\n False,\n 202021,\n '0x2B5AD5c4795c026514f8317c7a215E218DcCD6cF',\n 10,\n 500000,\n 1000000,\n 20]"
     },
     "execution_count": 31,
     "metadata": {},
     "output_type": "execute_result"
    }
   ],
   "source": [
    "exec_call(sc_contract, \"player_database\", pp_id_1)"
   ]
  },
  {
   "cell_type": "markdown",
   "metadata": {},
   "source": [
    "Backer sends funds to player"
   ]
  },
  {
   "cell_type": "code",
   "execution_count": 32,
   "metadata": {},
   "outputs": [],
   "source": [
    "_, send_funds_receipt = exec_transact_receipt(sc_contract, \"backerTransPlayer\", pp_id_1, 10, transaction={'from': pp_bank1})"
   ]
  },
  {
   "cell_type": "markdown",
   "metadata": {},
   "source": [
    "At this point the player has receieved the funds for the tournament and the player will play the event.  Until the tournament is finished nothing else will happen.  There will be an Event listener waiting for tournament results from ResultOracle.  This will happen if the player receieves any money from the tournament, even if it's not a profit because the money to play was already sent.   "
   ]
  },
  {
   "cell_type": "markdown",
   "metadata": {},
   "source": [
    "Compile ResultOracle.sol after tournament so that if necessary the player can distribute funds back to the backers."
   ]
  },
  {
   "cell_type": "code",
   "execution_count": 33,
   "metadata": {},
   "outputs": [],
   "source": [
    "# compile TemperatureOracle contract\n",
    "result_oracle_compiled = compile_contract(\"ResultOracle\")\n",
    "# deploy TemperatureOracle contract\n",
    "result_oracle_receipt, result_oracle_contract = deploy_contract(sc_w3, result_oracle_compiled, staking_chain_account)"
   ]
  },
  {
   "cell_type": "code",
   "execution_count": 34,
   "metadata": {},
   "outputs": [
    {
     "data": {
      "text/plain": "[<Function owner()>, <Function updateResults(uint256,uint256,uint256)>]"
     },
     "execution_count": 34,
     "metadata": {},
     "output_type": "execute_result"
    }
   ],
   "source": [
    "result_oracle_contract.all_functions()"
   ]
  },
  {
   "cell_type": "code",
   "execution_count": 35,
   "metadata": {},
   "outputs": [
    {
     "data": {
      "text/plain": "202021"
     },
     "execution_count": 35,
     "metadata": {},
     "output_type": "execute_result"
    }
   ],
   "source": [
    "buyin_event1['tourney_id']"
   ]
  },
  {
   "cell_type": "markdown",
   "metadata": {},
   "source": [
    "Record results of tournament, for now the oracle is the contract owner but in the future the results will be verified by multiple sources.  "
   ]
  },
  {
   "cell_type": "code",
   "execution_count": 36,
   "metadata": {},
   "outputs": [],
   "source": [
    "_, results_update_receipt_1 = exec_transact_receipt(result_oracle_contract, \"updateResults\", 10, pp_id_1, buyin_event1['tourney_id'])"
   ]
  },
  {
   "cell_type": "code",
   "execution_count": 37,
   "metadata": {},
   "outputs": [
    {
     "data": {
      "text/plain": "(AttributeDict({'args': AttributeDict({'profit': 10,\n   'pp_id': 0,\n   'tourney_id': 202021}),\n  'event': 'ResultUpdate',\n  'logIndex': 0,\n  'transactionIndex': 0,\n  'transactionHash': HexBytes('0xd50e1d87cc34d65f3d50a5c27c8b12a2608473d843b241eb6375f65a4dc0f378'),\n  'address': '0x51a240271AB8AB9f9a21C82d9a85396b704E164d',\n  'blockHash': HexBytes('0x637baede3cac067a600f32d4120fe064315c790aaa94c8a959e8088523717564'),\n  'blockNumber': 9}),)"
     },
     "execution_count": 37,
     "metadata": {},
     "output_type": "execute_result"
    }
   ],
   "source": [
    "result_oracle_contract.events.ResultUpdate().processReceipt(results_update_receipt_1)"
   ]
  },
  {
   "cell_type": "markdown",
   "metadata": {},
   "source": [
    "The event listener that will pick up the results of the tournament so that funds can be distributed back to the backers.  "
   ]
  },
  {
   "cell_type": "code",
   "execution_count": 38,
   "metadata": {},
   "outputs": [],
   "source": [
    "def get_results_event(results_update_receipt):\n",
    "     return result_oracle_contract.events.ResultUpdate().processReceipt(results_update_receipt)[0]['args']"
   ]
  },
  {
   "cell_type": "code",
   "execution_count": 39,
   "metadata": {},
   "outputs": [
    {
     "data": {
      "text/plain": "AttributeDict({'profit': 10, 'pp_id': 0, 'tourney_id': 202021})"
     },
     "execution_count": 39,
     "metadata": {},
     "output_type": "execute_result"
    }
   ],
   "source": [
    "result_event_1 = get_results_event(results_update_receipt_1)\n",
    "result_event_1"
   ]
  },
  {
   "cell_type": "markdown",
   "metadata": {},
   "source": [
    "If the player receieved any money from the tournament the funds are distributed back to the backer according to their action_owned"
   ]
  },
  {
   "cell_type": "markdown",
   "metadata": {},
   "source": [
    "Backers listen for events for their profit"
   ]
  },
  {
   "cell_type": "code",
   "execution_count": 40,
   "metadata": {},
   "outputs": [
    {
     "data": {
      "text/plain": "(AttributeDict({'args': AttributeDict({'profit': 10,\n   'pp_id': 0,\n   'tourney_id': 202021}),\n  'event': 'ResultUpdate',\n  'logIndex': 0,\n  'transactionIndex': 0,\n  'transactionHash': HexBytes('0xd50e1d87cc34d65f3d50a5c27c8b12a2608473d843b241eb6375f65a4dc0f378'),\n  'address': '0x51a240271AB8AB9f9a21C82d9a85396b704E164d',\n  'blockHash': HexBytes('0x637baede3cac067a600f32d4120fe064315c790aaa94c8a959e8088523717564'),\n  'blockNumber': 9}),)"
     },
     "execution_count": 40,
     "metadata": {},
     "output_type": "execute_result"
    }
   ],
   "source": [
    "result_oracle_contract.events.ResultUpdate().processReceipt(results_update_receipt_1)"
   ]
  },
  {
   "cell_type": "markdown",
   "metadata": {},
   "source": [
    "The revenue from tourney is emitted as an event.  It's not the profit because the initial buy-in was already paid"
   ]
  },
  {
   "cell_type": "code",
   "execution_count": 41,
   "metadata": {},
   "outputs": [],
   "source": [
    "_, results_receipt = exec_transact_receipt(sc_contract, \"_updateResults\", 10, pp_id_1, 202021, transaction={'from': backer_account1})"
   ]
  },
  {
   "cell_type": "markdown",
   "metadata": {},
   "source": [
    "Getter function to see how much player needs to distribute to backers"
   ]
  },
  {
   "cell_type": "code",
   "execution_count": 42,
   "metadata": {},
   "outputs": [
    {
     "data": {
      "text/plain": "5"
     },
     "execution_count": 42,
     "metadata": {},
     "output_type": "execute_result"
    }
   ],
   "source": [
    "revenue_event1 = exec_call(sc_contract, \"get_amount_owed\", pp_id_1, buyin_event1['tourney_id'])\n",
    "revenue_event1"
   ]
  },
  {
   "cell_type": "markdown",
   "metadata": {},
   "source": [
    "Distribute funds"
   ]
  },
  {
   "cell_type": "code",
   "execution_count": 43,
   "metadata": {},
   "outputs": [],
   "source": [
    "_, backer_accept_profits_receipt_1 = exec_transact_receipt(sc_contract, \"accept_results\", pp_id_1, buyin_event1['tourney_id'], transaction={'from': pp_bank1,'value':revenue_event1})"
   ]
  },
  {
   "cell_type": "markdown",
   "metadata": {},
   "source": [
    "Event listener for backers to ask for profits"
   ]
  },
  {
   "cell_type": "code",
   "execution_count": 44,
   "metadata": {},
   "outputs": [
    {
     "data": {
      "text/plain": "(AttributeDict({'args': AttributeDict({'profit': 5,\n   'tourney_id': 202021,\n   'pp_id': 0}),\n  'event': 'pickUpProfit',\n  'logIndex': 0,\n  'transactionIndex': 0,\n  'transactionHash': HexBytes('0xf268fb9fe9acf680bae9e39e32a7294c635b529b812b0bdd097494e58c2615a1'),\n  'address': '0xF2E246BB76DF876Cef8b38ae84130F4F55De395b',\n  'blockHash': HexBytes('0xb06ca5d63d2505d69f3e9d201c08cb48ba04f0a6c5d47cd8b555995ed208b04e'),\n  'blockNumber': 11}),)"
     },
     "execution_count": 44,
     "metadata": {},
     "output_type": "execute_result"
    }
   ],
   "source": [
    "sc_contract.events.pickUpProfit().processReceipt(backer_accept_profits_receipt_1)"
   ]
  },
  {
   "cell_type": "code",
   "execution_count": 45,
   "metadata": {},
   "outputs": [
    {
     "data": {
      "text/plain": "500000"
     },
     "execution_count": 45,
     "metadata": {},
     "output_type": "execute_result"
    }
   ],
   "source": [
    "exec_call(sc_contract, 'action_owned', pp_id_1, backer_account1, buyin_event1['tourney_id'])"
   ]
  },
  {
   "cell_type": "code",
   "execution_count": 46,
   "metadata": {},
   "outputs": [
    {
     "data": {
      "text/plain": "'Profit sent, Balance cleared'"
     },
     "execution_count": 46,
     "metadata": {},
     "output_type": "execute_result"
    }
   ],
   "source": [
    "exec_transact(sc_contract, \"distribute_result\", pp_id_1, buyin_event1['tourney_id'], transaction={'from':backer_account1})"
   ]
  },
  {
   "cell_type": "markdown",
   "metadata": {},
   "source": [
    "Make sure DApp properly clears action_owned fields after Balance has been cleared"
   ]
  },
  {
   "cell_type": "code",
   "execution_count": 47,
   "metadata": {},
   "outputs": [
    {
     "data": {
      "text/plain": "0"
     },
     "execution_count": 47,
     "metadata": {},
     "output_type": "execute_result"
    }
   ],
   "source": [
    "exec_call(sc_contract, 'action_owned', pp_id_1, backer_account1, buyin_event1['tourney_id'])"
   ]
  },
  {
   "cell_type": "code",
   "execution_count": 48,
   "metadata": {},
   "outputs": [
    {
     "name": "stdout",
     "output_type": "stream",
     "text": [
      "Success:\n",
      "execution reverted: You don't own any of that player's action!\n"
     ]
    }
   ],
   "source": [
    "# Test that backers can't withdraw their money twice\n",
    "try:\n",
    "    exec_transact(sc_contract, \"distribute_result\", pp_id_1, buyin_event1['tourney_id'], transaction={'from':backer_account1})\n",
    "    exec_transact(sc_contract, \"distribute_result\", pp_id_1, buyin_event1['tourney_id'], transaction={'from':backer_account1})\n",
    "    print(\"Test failed\")\n",
    "except Exception as e:\n",
    "    print(\"Success:\")\n",
    "    print(e)"
   ]
  },
  {
   "cell_type": "code",
   "execution_count": 49,
   "metadata": {},
   "outputs": [
    {
     "data": {
      "text/plain": "[0,\n 0,\n 1000,\n True,\n False,\n 0,\n '0x2B5AD5c4795c026514f8317c7a215E218DcCD6cF',\n 0,\n 0,\n 0,\n 0]"
     },
     "execution_count": 49,
     "metadata": {},
     "output_type": "execute_result"
    }
   ],
   "source": [
    "exec_call(sc_contract, \"player_database\", pp_id_1)"
   ]
  },
  {
   "cell_type": "markdown",
   "metadata": {},
   "source": [
    "Test that multiple investors can invest in one tournament.  Many print statements to check state at various points.  "
   ]
  },
  {
   "cell_type": "code",
   "execution_count": 50,
   "metadata": {},
   "outputs": [
    {
     "name": "stdout",
     "output_type": "stream",
     "text": [
      "buy-in requested:\n",
      "AttributeDict({'transactionHash': HexBytes('0x33e14f0e8f4763489dfabe22ea7e89115e8aa6caec5a34d242f18dc8552dbd0d'), 'transactionIndex': 0, 'blockNumber': 13, 'blockHash': HexBytes('0x39837872e5f20c57d97b732c8ef078fb9bb60bda3285a5bebd0ffb0b69a3d6bc'), 'cumulativeGasUsed': 108960, 'gasUsed': 108960, 'contractAddress': None, 'logs': [AttributeDict({'type': 'mined', 'logIndex': 0, 'transactionIndex': 0, 'transactionHash': HexBytes('0x33e14f0e8f4763489dfabe22ea7e89115e8aa6caec5a34d242f18dc8552dbd0d'), 'blockHash': HexBytes('0x39837872e5f20c57d97b732c8ef078fb9bb60bda3285a5bebd0ffb0b69a3d6bc'), 'blockNumber': 13, 'address': '0xF2E246BB76DF876Cef8b38ae84130F4F55De395b', 'data': '0x0000000000000000000000000000000000000000000000000000000000000019000000000000000000000000000000000000000000000000000000000000000000000000000000000000000000000000000000000000000000000000000000320000000000000000000000000000000000000000000000000000000000018e8500000000000000000000000000000000000000000000000000000000001e8480', 'topics': [HexBytes('0x1db3d4105b7e5be25050106b663415fb35479c7e3451faea8b4acc07c5d504d6')]})], 'status': 1})\n",
      "backer 1 invested\n",
      "backer 2 invested:\n",
      "AttributeDict({'amountReq': 10, 'play_id': 2})\n",
      "results received:\n",
      "AttributeDict({'profit': 100, 'pp_id': 0, 'tourney_id': 102021})\n",
      "value = 50\n",
      "money received from backer\n",
      "backer 1 paid\n",
      "backer 2 paid\n"
     ]
    }
   ],
   "source": [
    "_, buyin_receipt3 = exec_transact_receipt(sc_contract, \"request_buyin\", pp_id_1, 25, 50, 102021, 2000000, transaction={'from': pp_bank1})\n",
    "buyin_event3 = get_buyin_requested(buyin_receipt3)\n",
    "print(\"buy-in requested:\")\n",
    "print(buyin_receipt3)\n",
    "_, invest_receipt3 = exec_transact_receipt(sc_contract, \"invest\", 10, pp_id_1, transaction={'from': backer_account1, 'value': 10})\n",
    "print(\"backer 1 invested\")\n",
    "_, invest_receipt4 = exec_transact_receipt(sc_contract, \"invest\", 10, pp_id_1, transaction={'from': backer_account2, 'value': 40})\n",
    "print(\"backer 2 invested:\")\n",
    "invest_event4 = get_invest_receipt(invest_receipt4)\n",
    "print(invest_event4)\n",
    "_, results_update_receipt_2 = exec_transact_receipt(result_oracle_contract, \"updateResults\", 100, pp_id_1, buyin_event3['tourney_id'])\n",
    "result_event_2 = get_results_event(results_update_receipt_2)\n",
    "print(\"results received:\")\n",
    "print(result_event_2)\n",
    "_, results_receipt = exec_transact_receipt(sc_contract, \"_updateResults\", 100, pp_id_1, 102021)\n",
    "value = exec_call(sc_contract, \"get_amount_owed\", pp_id_1, buyin_event3['tourney_id'])\n",
    "print(\"value = \" + str(value))\n",
    "_, backer_accept_profits_receipt_2 = exec_transact_receipt(sc_contract, \"accept_results\", pp_id_1, buyin_event3['tourney_id'], transaction={'from': pp_bank1,'value':value})\n",
    "print(\"money received from backer\")\n",
    "exec_transact(sc_contract, \"distribute_result\", pp_id_1, buyin_event3['tourney_id'], transaction={'from':backer_account1})\n",
    "print(\"backer 1 paid\")\n",
    "exec_transact(sc_contract, \"distribute_result\", pp_id_1, buyin_event3['tourney_id'], transaction={'from':backer_account2})\n",
    "print(\"backer 2 paid\")\n"
   ]
  }
 ],
 "metadata": {
  "kernelspec": {
   "display_name": "Python 3.8.5 64-bit ('base': conda)",
   "name": "python385jvsc74a57bd0f78415544eb94921640dd7422e2a9945b17de9025dccaac3531e1029c8c547cb"
  },
  "language_info": {
   "codemirror_mode": {
    "name": "ipython",
    "version": 3
   },
   "file_extension": ".py",
   "mimetype": "text/x-python",
   "name": "python",
   "nbconvert_exporter": "python",
   "pygments_lexer": "ipython3",
   "version": "3.8.5"
  },
  "orig_nbformat": 2
 },
 "nbformat": 4,
 "nbformat_minor": 2
}